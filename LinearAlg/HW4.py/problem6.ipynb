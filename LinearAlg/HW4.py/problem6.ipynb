{
 "cells": [
  {
   "cell_type": "markdown",
   "metadata": {},
   "source": [
    "# Comparing Language as Vectors with Word2Vec and Cosine Similarity\n",
    "\n",
    "For this problem, you'll use a popular technique called Word2Vec that represents words as vectors in a high-dimensional space. The key idea is that words that are used in similar ways will be close to each other in this space. You can read the original paper by Mikolov et al. [here](https://arxiv.org/pdf/1301.3781.pdf).\n",
    "\n",
    "## How it works\n",
    "\n",
    "Word2Vec uses a shallow neural network to learn word associations from a large corpus of text. It has two main architectures for training: Continuous Bag of Words (CBOW) and Skip-Gram.\n",
    "\n",
    "- **Continuous Bag of Words (CBOW):** This model predicts a target word based on its surrounding context words. For example, given the sentence \"the cat sat on the mat,\" CBOW would use the words \"the,\" \"sat,\" \"on,\" and \"the\" to predict \"cat\".\n",
    "- **Skip-Gram:** This model works in the reverse manner of CBOW. It uses a target word to predict its surrounding context words. Using the same sentence, Skip-Gram would take \"cat\" as input to predict \"the,\" \"sat,\" \"on,\" and \"the\".\n",
    "\n",
    "Both models rely on the distributional hypothesis, which suggests that words appearing in similar contexts tend to have similar meanings. Through training, Word2Vec adjusts the vectors so that words with similar meanings are positioned close to each other in the vector space.\n",
    "\n",
    "## Using it for language comparison\n",
    "\n",
    "Of course, we don't need to know the exact details of how it works. We can use pre-trained Word2Vec models to compare languages. In this notebook, we'll use the `gensim` library to load a pre-trained Word2Vec model and compare the similarity of different words. The application for linear algebra is to experiment with cosine similarity, which measures the angle between two vectors. In this case, the result of cosine similarity will give us a measure of how similar two words are in meaning.\n",
    "\n",
    "## Setup\n",
    "\n",
    "First, you'll need to make sure you have all the necessary libraries installed. On canvas, you can find a file called `cse3380a4.yml` that lists all the libraries you'll need. You can install them by running the following command:\n",
    "\n",
    "```bash\n",
    "conda env create -f cse3380a4.yml\n",
    "```\n",
    "\n",
    "If that doesn't work for you, you can find a list of the libraries you'll need below:\n",
    "\n",
    "- `gensim`\n",
    "- `numpy`\n",
    "- `matplotlib`\n",
    "- `scipy==1.12.0`\n",
    "\n",
    "To use the model, you'll need to download the pre-trained weights. You can find them [here](https://drive.google.com/file/d/19Z7UreEhC8Gm-PoWCWxXWSF0pFqgCUno/view?usp=sharing). Make sure you remember where you downloaded the file, as you'll need to provide the path to the model in the code below.\n",
    "\n",
    "If everything is downloaded and installed, you should be able to run the cell below. Note that this may take a few minutes to load the model."
   ]
  },
  {
   "cell_type": "code",
   "execution_count": 1,
   "metadata": {},
   "outputs": [],
   "source": [
    "import gensim\n",
    "\n",
    "model_file = '/Users/fortnitekorea/Downloads/GoogleNews-vectors-negative300.bin.gz' # TODO: Replace /path/to/ with the path to the model file you downloaded\n",
    "model = gensim.models.KeyedVectors.load_word2vec_format(model_file, binary=True)"
   ]
  },
  {
   "cell_type": "markdown",
   "metadata": {},
   "source": [
    "## Using the model\n",
    "\n",
    "You can retrieve words from the model along with their embedded vectors. To do so, you can use the `key_to_index` attribute of the model. This will give you a dictionary where the keys are the words and the values are the corresponding vectors. An example is provided in the cell below.\n",
    "\n",
    "The embedding is a 300-dimensional vector for each word."
   ]
  },
  {
   "cell_type": "code",
   "execution_count": null,
   "metadata": {},
   "outputs": [],
   "source": [
    "# Retrieve a word and its embedding\n",
    "result = model.index_to_key[1024]\n",
    "embedding = model[result]\n",
    "print(result, embedding)\n"
   ]
  },
  {
   "cell_type": "markdown",
   "metadata": {},
   "source": [
    "## Comparing Vectors with Cosine Similarity\n",
    "\n",
    "The cell below is where the primary work will be done. You'll need to compare the similarity of different words using cosine similarity. The formula for cosine similarity is given by:\n",
    "\n",
    "$$\n",
    "\\text{cosine\\_similarity}(\\mathbf{a}, \\mathbf{b}) = \\frac{\\mathbf{a} \\cdot \\mathbf{b}}{\\|\\mathbf{a}\\| \\|\\mathbf{b}\\| }\n",
    "$$\n",
    "\n",
    "where $\\mathbf{a}$ and $\\mathbf{b}$ are the vectors you want to compare. The dot product of the two vectors is divided by the product of their magnitudes.\n",
    "\n",
    "You can use `numpy` and the `linalg` module to compute the dot product and magnitudes of the vectors. You should complete the function `cosine_similarity` below to compute the cosine similarity between two vectors."
   ]
  },
  {
   "cell_type": "code",
   "execution_count": 2,
   "metadata": {},
   "outputs": [
    {
     "name": "stdout",
     "output_type": "stream",
     "text": [
      "[('cats', 0.80993795), ('dog', 0.76094574), ('kitten', 0.7464985), ('feline', 0.73262346), ('beagle', 0.7150583), ('puppy', 0.7075454), ('pup', 0.6934291), ('pet', 0.6891532), ('felines', 0.6755932), ('chihuahua', 0.6709762)]\n"
     ]
    }
   ],
   "source": [
    "import numpy as np\n",
    "import gensim\n",
    "\n",
    "def similarity_search(word, similarity_func, model, topn=10):\n",
    "    \"\"\"Compare similarity to each word in the model.\n",
    "\n",
    "    Args:\n",
    "        word (str): The word to compare similarity to.\n",
    "        similarity_func (function): The similarity function to use.\n",
    "        model (gensim.models.KeyedVectors): The model to use.\n",
    "        topn (int): The number of most similar words to return.\n",
    "\n",
    "    Returns:\n",
    "        list: The top n most similar words.\n",
    "    \"\"\"\n",
    "    # Create a dictionary that will store the similarities\n",
    "    # The keys are the words, the values are the similarities\n",
    "    similarities = {}\n",
    "\n",
    "    # Get the embedding for the search word\n",
    "    word_embedding = model[word]\n",
    "\n",
    "    # Compare the search word to each word in the model\n",
    "    for word2 in model.key_to_index:\n",
    "        if word2 == word:\n",
    "            continue  # Skip the word itself\n",
    "\n",
    "        word2_embedding = model[word2]\n",
    "        similarity = similarity_func(word_embedding, word2_embedding)\n",
    "        similarities[word2] = similarity\n",
    "\n",
    "    # Sort by similarity\n",
    "    most_similar = sorted(similarities.items(), key=lambda x: x[1], reverse=True)\n",
    "\n",
    "    # Return the top n most similar words\n",
    "    return most_similar[:topn]\n",
    "\n",
    "\n",
    "def cosine_similarity(word1_vec, word2_vec):\n",
    "    \"\"\"Returns cosine similarity between two vectors.\"\"\"\n",
    "    dot_product = np.dot(word1_vec, word2_vec)\n",
    "    norm1 = np.linalg.norm(word1_vec)\n",
    "    norm2 = np.linalg.norm(word2_vec)\n",
    "    return dot_product / (norm1 * norm2)\n"
   ]
  },
  {
   "cell_type": "markdown",
   "metadata": {},
   "source": [
    "## Comparison with `gensim`'s similarity function\n",
    "\n",
    "The cell below will compare the cosine similarity of your input word using the `gensim` library. You can use this as a reference to check your implementation."
   ]
  },
  {
   "cell_type": "code",
   "execution_count": 3,
   "metadata": {},
   "outputs": [
    {
     "name": "stdout",
     "output_type": "stream",
     "text": [
      "[('cats', 0.8099378347396851), ('dog', 0.760945737361908), ('kitten', 0.7464984655380249), ('feline', 0.7326233983039856), ('beagle', 0.7150583267211914), ('puppy', 0.7075453996658325), ('pup', 0.6934291124343872), ('pet', 0.6891531348228455), ('felines', 0.6755931377410889), ('chihuahua', 0.6709762215614319)]\n"
     ]
    }
   ],
   "source": [
    "# Return the top 10 most similar words to \"king\"\n",
    "print(model.most_similar(\"cat\", topn=10))"
   ]
  }
 ],
 "metadata": {
  "kernelspec": {
   "display_name": "cse3380a3",
   "language": "python",
   "name": "python3"
  },
  "language_info": {
   "codemirror_mode": {
    "name": "ipython",
    "version": 3
   },
   "file_extension": ".py",
   "mimetype": "text/x-python",
   "name": "python",
   "nbconvert_exporter": "python",
   "pygments_lexer": "ipython3",
   "version": "3.12.4"
  }
 },
 "nbformat": 4,
 "nbformat_minor": 2
}
